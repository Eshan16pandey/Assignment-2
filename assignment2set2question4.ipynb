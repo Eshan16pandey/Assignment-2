{
 "cells": [
  {
   "cell_type": "code",
   "execution_count": 1,
   "id": "1f9e3c79-e407-4693-8ba2-bee03e17533e",
   "metadata": {},
   "outputs": [],
   "source": [
    "#lets denote the following\n",
    "# p as the probability of a call being misdirected, which is 1/200. \n",
    "# q as the probability of a call not being misdirected, which is 1−p. \n",
    "# n as the number of attempts, which is 5 in this case. "
   ]
  },
  {
   "cell_type": "code",
   "execution_count": 2,
   "id": "7bb10950-2e6f-4936-b917-53ccacc21377",
   "metadata": {},
   "outputs": [],
   "source": [
    "p = 1/200\n"
   ]
  },
  {
   "cell_type": "code",
   "execution_count": 3,
   "id": "ae0859e7-96dc-4284-8a72-6e88a0ad0014",
   "metadata": {},
   "outputs": [],
   "source": [
    "q = 1 - p "
   ]
  },
  {
   "cell_type": "code",
   "execution_count": 4,
   "id": "7a12cdcf-7975-4695-9ba9-b377e830d3ab",
   "metadata": {},
   "outputs": [],
   "source": [
    "n = 5"
   ]
  },
  {
   "cell_type": "code",
   "execution_count": 5,
   "id": "01e1b074-4b73-46ce-89c7-438b542fd600",
   "metadata": {},
   "outputs": [],
   "source": [
    "Probability = 1 - q**n"
   ]
  },
  {
   "cell_type": "code",
   "execution_count": 7,
   "id": "965e90c2-f697-409c-af89-53794f745ded",
   "metadata": {},
   "outputs": [
    {
     "name": "stdout",
     "output_type": "stream",
     "text": [
      "the probability that at least one in five attempted telephone calls reaches the wrong number: 0.02475124687812502\n"
     ]
    }
   ],
   "source": [
    "print('the probability that at least one in five attempted telephone calls reaches the wrong number:', Probability)"
   ]
  },
  {
   "cell_type": "code",
   "execution_count": null,
   "id": "33b697f6-ed63-4b05-bed7-59ddc9b3994f",
   "metadata": {},
   "outputs": [],
   "source": []
  }
 ],
 "metadata": {
  "kernelspec": {
   "display_name": "Python 3 (ipykernel)",
   "language": "python",
   "name": "python3"
  },
  "language_info": {
   "codemirror_mode": {
    "name": "ipython",
    "version": 3
   },
   "file_extension": ".py",
   "mimetype": "text/x-python",
   "name": "python",
   "nbconvert_exporter": "python",
   "pygments_lexer": "ipython3",
   "version": "3.11.7"
  }
 },
 "nbformat": 4,
 "nbformat_minor": 5
}
