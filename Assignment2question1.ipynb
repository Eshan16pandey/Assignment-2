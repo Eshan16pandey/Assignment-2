{
 "cells": [
  {
   "cell_type": "code",
   "execution_count": 3,
   "id": "4a0e349f-5279-4086-8dd4-f4806f3da8cf",
   "metadata": {},
   "outputs": [],
   "source": [
    "import pandas as pd\n",
    "\n",
    "import matplotlib.pyplot as plt\n"
   ]
  },
  {
   "cell_type": "code",
   "execution_count": 4,
   "id": "3498f792-ea0d-4c8b-acab-4f1bae9e8fd6",
   "metadata": {},
   "outputs": [],
   "source": [
    "# Data\n",
    "data = {\n",
    "    'Name of Company': ['Allied Signal', 'Bankers Trust', 'General Mills', 'ITT Industries',\n",
    "                         'J.P.Morgan & Co.', 'Lehman Brothers', 'Marriott', 'MCI', 'Merrill Lynch',\n",
    "                         'Microsoft', 'Morgan Stanley', 'Sun Microsystems', 'Travelers', 'US Airways',\n",
    "                         'Warner-Lambert'],\n",
    "    'Measure X': [24.23, 25.53, 25.41, 24.14, 29.62, 28.25, 25.81, 24.39, 40.26, 32.95, 91.36, 25.99,\n",
    "                  39.42, 26.71, 35.00]\n",
    "}\n",
    "\n"
   ]
  },
  {
   "cell_type": "code",
   "execution_count": 5,
   "id": "e7987d0e-15b2-4011-bd4f-f2b720df7684",
   "metadata": {},
   "outputs": [],
   "source": [
    "# Create DataFrame\n",
    "df = pd.DataFrame(data)\n"
   ]
  },
  {
   "cell_type": "code",
   "execution_count": 6,
   "id": "de2bd861-ab40-461b-961d-997ddd26b268",
   "metadata": {},
   "outputs": [],
   "source": [
    "# Sort the data\n",
    "df_sorted = df.sort_values('Measure X')"
   ]
  },
  {
   "cell_type": "code",
   "execution_count": 7,
   "id": "c799e656-d824-44ac-ac89-fc478a874efa",
   "metadata": {},
   "outputs": [],
   "source": [
    "# Calculate quartiles\n",
    "Q1 = df_sorted['Measure X'].quantile(0.25)\n",
    "Q3 = df_sorted['Measure X'].quantile(0.75)"
   ]
  },
  {
   "cell_type": "code",
   "execution_count": 8,
   "id": "a41697ac-bc68-43eb-9e6b-1fdf54abd972",
   "metadata": {},
   "outputs": [],
   "source": [
    "# Calculate IQR\n",
    "IQR = Q3 - Q1"
   ]
  },
  {
   "cell_type": "code",
   "execution_count": 12,
   "id": "e44105bc-5e29-4c4e-8b1b-eb08ebf9c500",
   "metadata": {},
   "outputs": [],
   "source": [
    "# Find outliers\n",
    "outliers = df_sorted[(df_sorted['Measure X'] < (Q1 - 1.5 * IQR)) | (df_sorted['Measure X'] > (Q3 + 1.5 * IQR))]\n",
    "\n"
   ]
  },
  {
   "cell_type": "code",
   "execution_count": 24,
   "id": "3c5e1d29-55cf-458d-aba9-89697102a94c",
   "metadata": {},
   "outputs": [
    {
     "data": {
      "image/png": "[encoded data removed]",
      "text/plain": [
       "<Figure size 1200x600 with 1 Axes>"
      ]
     },
     "metadata": {},
     "output_type": "display_data"
    }
   ],
   "source": [
    "# Plot the data with outliers highlighted\n",
    "plt.figure(figsize=(12, 6))\n",
    "plt.boxplot(df_sorted['Measure X'], vert=False)\n",
    "plt.scatter(outliers['Measure X'], [1] * len(outliers), color='red', label='Outliers')\n",
    "plt.xlabel('Measure X (%)')\n",
    "plt.title('Boxplot of Measure X')\n",
    "plt.legend()\n",
    "plt.show()\n",
    "\n"
   ]
  },
  {
   "cell_type": "code",
   "execution_count": 25,
   "id": "7be9e1dc-c58d-45fe-a5d8-54ea28fe50a4",
   "metadata": {},
   "outputs": [],
   "source": [
    "# Calculate mean, standard deviation, and variance\n",
    "mean = df['Measure X'].mean()\n",
    "std_dev = df['Measure X'].std()\n",
    "variance = df['Measure X'].var()\n"
   ]
  },
  {
   "cell_type": "code",
   "execution_count": 26,
   "id": "8b7b6754-95f6-4781-8df6-7871b66eeb1c",
   "metadata": {},
   "outputs": [
    {
     "name": "stdout",
     "output_type": "stream",
     "text": [
      "Mean (𝜇): 33.27133333333333\n",
      "Standard Deviation (𝜎): 16.945400921222028\n",
      "Variance (𝜎^2): 287.1466123809524\n"
     ]
    }
   ],
   "source": [
    "# Display the results\n",
    "print(\"Mean (𝜇):\", mean)\n",
    "print(\"Standard Deviation (𝜎):\", std_dev)\n",
    "print(\"Variance (𝜎^2):\", variance)"
   ]
  },
  {
   "cell_type": "code",
   "execution_count": null,
   "id": "30f895cf-2fc5-49bc-a189-4957edda8555",
   "metadata": {},
   "outputs": [],
   "source": []
  },
  {
   "cell_type": "code",
   "execution_count": null,
   "id": "8fccc621-3d49-430a-8487-e8cbabc8a63c",
   "metadata": {},
   "outputs": [],
   "source": []
  },
  {
   "cell_type": "code",
   "execution_count": null,
   "id": "0110cb0b-f2f4-45e7-998e-acfa29d7355f",
   "metadata": {},
   "outputs": [],
   "source": []
  }
 ],
 "metadata": {
  "kernelspec": {
   "display_name": "Python 3 (ipykernel)",
   "language": "python",
   "name": "python3"
  },
  "language_info": {
   "codemirror_mode": {
    "name": "ipython",
    "version": 3
   },
   "file_extension": ".py",
   "mimetype": "text/x-python",
   "name": "python",
   "nbconvert_exporter": "python",
   "pygments_lexer": "ipython3",
   "version": "3.11.7"
  }
 },
 "nbformat": 4,
 "nbformat_minor": 5
}
