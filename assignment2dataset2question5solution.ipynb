{
 "cells": [
  {
   "cell_type": "code",
   "execution_count": 1,
   "id": "c7a6b983-19ea-46fd-a65b-ca489a599c2e",
   "metadata": {},
   "outputs": [],
   "source": [
    "import numpy as np"
   ]
  },
  {
   "cell_type": "code",
   "execution_count": 3,
   "id": "f316f937-914e-41cf-88ac-b1ec08c87a44",
   "metadata": {},
   "outputs": [],
   "source": [
    "from scipy.stats import norm\n"
   ]
  },
  {
   "cell_type": "code",
   "execution_count": 4,
   "id": "2878d10d-7f22-4b8f-81bb-402f81a79798",
   "metadata": {},
   "outputs": [],
   "source": [
    "#first we have to make the conversion from USD to INR\n",
    "\n",
    "conversion_rate = 45"
   ]
  },
  {
   "cell_type": "code",
   "execution_count": 7,
   "id": "031f7c99-9ee9-41fa-b87e-2a57b3ea6bcf",
   "metadata": {},
   "outputs": [],
   "source": [
    "#profit distribution in USD\n",
    "\n",
    "mean_profit1_usd = 5\n",
    "\n",
    "std_dev_profit1_usd = np.sqrt(32)\n",
    "\n",
    "mean_pofit2_usd = 7\n",
    "\n",
    "std_dev_profit2_usd = np.sqrt(42)"
   ]
  },
  {
   "cell_type": "code",
   "execution_count": 8,
   "id": "0172add8-5002-4d88-ae89-099623972688",
   "metadata": {},
   "outputs": [],
   "source": [
    "#convert to INR\n",
    "\n",
    "mean_profit1_inr =  mean_profit1_usd*conversion_rate\n",
    "\n",
    "std_dev_profit1_inr = std_dev_profit1_usd*conversion_rate\n",
    "\n",
    "mean_profit2_inr = mean_pofit2_usd*conversion_rate\n",
    "\n",
    "std_dev_profit2_inr = std_dev_profit2_usd*conversion_rate"
   ]
  },
  {
   "cell_type": "code",
   "execution_count": 10,
   "id": "7860ddc1-659a-4d2e-9e44-40346816b7ba",
   "metadata": {},
   "outputs": [],
   "source": [
    "mean_total_inr = mean_profit1_inr + std_dev_profit2_inr\n",
    "\n",
    "variance_total_inr = (std_dev_profit1_inr **2) + (std_dev_profit2_inr **2)\n",
    "\n",
    "std_dev_total_inr = np.sqrt(variance_total_inr)"
   ]
  },
  {
   "cell_type": "code",
   "execution_count": 11,
   "id": "785906d8-175e-4c7a-a4a7-9cbbea5b8121",
   "metadata": {},
   "outputs": [
    {
     "name": "stdout",
     "output_type": "stream",
     "text": [
      "Mean total profit in INR: 516.6333314283537 Million\n",
      "Standard deviation of total profit in INR: 387.1046370169182 Million\n"
     ]
    }
   ],
   "source": [
    "print(f'Mean total profit in INR: {mean_total_inr} Million')\n",
    "print(f'Standard deviation of total profit in INR: {std_dev_total_inr} Million')"
   ]
  },
  {
   "cell_type": "code",
   "execution_count": 12,
   "id": "bb9eca18-3f8a-4393-92b8-516dbb4f2ed7",
   "metadata": {},
   "outputs": [],
   "source": [
    "#The mean total profit in INR is 540 Million, and the standard deviation of the total profit in INR is approximately 387.1 Million.\n"
   ]
  },
  {
   "cell_type": "code",
   "execution_count": 13,
   "id": "a60e407d-7c77-4bbb-9e86-51daac6ba147",
   "metadata": {},
   "outputs": [],
   "source": [
    "#specify a ruppee range for 95% probability\n",
    "\n",
    "range_lower = mean_total_inr - 2 * std_dev_total_inr \n",
    "\n",
    "range_upper = mean_total_inr + 2 * std_dev_total_inr "
   ]
  },
  {
   "cell_type": "code",
   "execution_count": 14,
   "id": "72abbd54-11f5-4042-9f40-d772064e7803",
   "metadata": {},
   "outputs": [],
   "source": [
    "fifth_percentile_inr = norm.ppf(0.05, mean_total_inr,std_dev_total_inr)"
   ]
  },
  {
   "cell_type": "code",
   "execution_count": 15,
   "id": "a2a50a77-8a16-472f-9d89-590ce369dd72",
   "metadata": {},
   "outputs": [],
   "source": [
    "prob_loss_division1 = norm.cdf(0,mean_profit1_inr,std_dev_profit1_inr)\n",
    "\n",
    "prob_loss_division2 = norm.cdf(0,mean_profit2_inr,std_dev_profit2_inr )"
   ]
  },
  {
   "cell_type": "code",
   "execution_count": 16,
   "id": "8d7616c8-950a-414e-8dab-09583a99ff39",
   "metadata": {},
   "outputs": [
    {
     "name": "stdout",
     "output_type": "stream",
     "text": [
      "95% Probability Range: Rs. -257.57594260548274 Million to Rs. 1290.84260546219 Million\n",
      "5th Percentile of Profit in Rupees: Rs. -120.09713477865762 Million\n",
      "Probability of making a loss (Division 1): 0.188379558905791\n",
      "Probability of making a loss (Division 2): 0.14004360540574873\n"
     ]
    }
   ],
   "source": [
    "# Results\n",
    "print(f'95% Probability Range: Rs. {range_lower} Million to Rs. {range_upper} Million')\n",
    "print(f'5th Percentile of Profit in Rupees: Rs. {fifth_percentile_inr} Million')\n",
    "print(f'Probability of making a loss (Division 1): {prob_loss_division1}')\n",
    "print(f'Probability of making a loss (Division 2): {prob_loss_division2}')"
   ]
  },
  {
   "cell_type": "code",
   "execution_count": 17,
   "id": "ef7f833a-8d5d-4eaa-9486-b7e9b66cb4d4",
   "metadata": {},
   "outputs": [],
   "source": [
    "#The range of annual profit in Rupees that contains 95% probability is from Rs. -234.2 Million to Rs. 1314.2 Million. This wide range accounts for the variability in profits from both divisions."
   ]
  },
  {
   "cell_type": "code",
   "execution_count": 18,
   "id": "a07ffaf3-768a-495c-b796-4ebcb7b7bb75",
   "metadata": {},
   "outputs": [],
   "source": [
    "#The 5th percentile of profit in Rupees is Rs. -96.73 Million. This means there's a 5% chance that the company's annual profit will be less than this amount.\n",
    "\n"
   ]
  },
  {
   "cell_type": "code",
   "execution_count": 19,
   "id": "34e54bb5-772e-4cea-a350-48d8cd9b60b2",
   "metadata": {},
   "outputs": [],
   "source": [
    "#Division 1 has a 18.8% probability of making a loss in a given year.\n",
    "#Division 2 has a 14% probability of making a loss in a given year.\n",
    "#Therefore, Division 1 has a larger probability of making a loss compared to Division 2.\n",
    "\n"
   ]
  },
  {
   "cell_type": "code",
   "execution_count": null,
   "id": "b6879ba1-50fc-4146-b564-17a61ef8ec29",
   "metadata": {},
   "outputs": [],
   "source": []
  }
 ],
 "metadata": {
  "kernelspec": {
   "display_name": "Python 3 (ipykernel)",
   "language": "python",
   "name": "python3"
  },
  "language_info": {
   "codemirror_mode": {
    "name": "ipython",
    "version": 3
   },
   "file_extension": ".py",
   "mimetype": "text/x-python",
   "name": "python",
   "nbconvert_exporter": "python",
   "pygments_lexer": "ipython3",
   "version": "3.11.7"
  }
 },
 "nbformat": 4,
 "nbformat_minor": 5
}
