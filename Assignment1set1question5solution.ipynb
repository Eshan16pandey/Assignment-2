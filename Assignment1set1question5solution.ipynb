{
 "cells": [
  {
   "cell_type": "code",
   "execution_count": 5,
   "id": "16f3f832-eec3-417b-aa0a-ee9b514bb521",
   "metadata": {},
   "outputs": [],
   "source": [
    "#lets define \n",
    "\n",
    "outcomes = [-2000, -1000, 0, 1000, 2000, 3000]\n",
    "\n",
    "probabilities = [0.1, 0.1, 0.2, 0.2, 0.3, 0.1]"
   ]
  },
  {
   "cell_type": "code",
   "execution_count": 6,
   "id": "1d55f851-fca7-45f6-88f0-d47c55245ff5",
   "metadata": {},
   "outputs": [],
   "source": [
    "#most likely monetory outcome of the business venture \n",
    "\n",
    "most_likely_outcome = outcomes[probabilities.index(max(probabilities))]"
   ]
  },
  {
   "cell_type": "code",
   "execution_count": 7,
   "id": "56219617-4f59-4fae-a43d-8b5cbd4b59d2",
   "metadata": {},
   "outputs": [
    {
     "name": "stdout",
     "output_type": "stream",
     "text": [
      "most likely monetory outcome of the business venture: 2000\n"
     ]
    }
   ],
   "source": [
    "print('most likely monetory outcome of the business venture:',most_likely_outcome)"
   ]
  },
  {
   "cell_type": "code",
   "execution_count": 22,
   "id": "7dfe1dd8-29d3-4e9e-a34a-ed55a779204b",
   "metadata": {},
   "outputs": [],
   "source": [
    "#the long-term average earning of business ventures \n",
    "\n",
    "expected_value = sum([outcomes[i]*probabilities[i] for i in range(len(outcomes))])"
   ]
  },
  {
   "cell_type": "code",
   "execution_count": 23,
   "id": "4e72e3a3-7d62-4396-90ae-b461e6bd3072",
   "metadata": {},
   "outputs": [
    {
     "name": "stdout",
     "output_type": "stream",
     "text": [
      "the long-term average earning of business ventures: 800.0\n"
     ]
    }
   ],
   "source": [
    "print('the long-term average earning of business ventures:', expected_value)"
   ]
  },
  {
   "cell_type": "code",
   "execution_count": 24,
   "id": "1493467b-d5e4-432d-b321-22f367a48ffa",
   "metadata": {},
   "outputs": [],
   "source": [
    "variance = sum([((outcomes[i] - expected_value) ** 2) * probabilities[i] for i in range(len(outcomes))])\n",
    "standard_deviation = variance ** 0.5"
   ]
  },
  {
   "cell_type": "code",
   "execution_count": 25,
   "id": "ae75ee7e-bb94-4051-959f-a637000df8b5",
   "metadata": {},
   "outputs": [
    {
     "name": "stdout",
     "output_type": "stream",
     "text": [
      "Measure of risk (standard deviation): 1469.6938456699068\n"
     ]
    }
   ],
   "source": [
    "print(\"Measure of risk (standard deviation):\", standard_deviation)"
   ]
  },
  {
   "cell_type": "code",
   "execution_count": null,
   "id": "f84bcc82-5938-4f83-a1c5-4f8198f4eded",
   "metadata": {},
   "outputs": [],
   "source": []
  }
 ],
 "metadata": {
  "kernelspec": {
   "display_name": "Python 3 (ipykernel)",
   "language": "python",
   "name": "python3"
  },
  "language_info": {
   "codemirror_mode": {
    "name": "ipython",
    "version": 3
   },
   "file_extension": ".py",
   "mimetype": "text/x-python",
   "name": "python",
   "nbconvert_exporter": "python",
   "pygments_lexer": "ipython3",
   "version": "3.11.7"
  }
 },
 "nbformat": 4,
 "nbformat_minor": 5
}
